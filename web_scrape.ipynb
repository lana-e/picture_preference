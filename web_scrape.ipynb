{
 "cells": [
  {
   "cell_type": "code",
   "execution_count": 5,
   "metadata": {},
   "outputs": [],
   "source": [
    "import requests\n",
    "from bs4 import BeautifulSoup\n",
    "import pandas as pd"
   ]
  },
  {
   "cell_type": "code",
   "execution_count": 43,
   "metadata": {},
   "outputs": [],
   "source": [
    "def top(time_period='',page=1):\n",
    "    url = 'https://letterboxd.com/films/ajax/popular/'+time_period+'/size/small/'\n",
    "    if page != 1:\n",
    "        url = url+f'page/{page}/'\n",
    "    page = requests.get(url)\n",
    "    soup = BeautifulSoup(page.content,'html.parser')\n",
    "    films_divs = soup.find_all(title=True)\n",
    "    films = pd.DataFrame()\n",
    "    films['Title'] = [films_divs[i]['title'][:-7] for i in range(len(films_divs))]\n",
    "    films['Year'] = [films_divs[i]['title'][-5:-1] for i in range(len(films_divs))]\n",
    "    films['href'] = [films_divs[i]['href'] for i in range(len(films_divs))]\n",
    "    return films"
   ]
  },
  {
   "cell_type": "code",
   "execution_count": 7,
   "metadata": {},
   "outputs": [],
   "source": [
    "def search_film(query):\n",
    "    query = str(query).replace(' ','+')\n",
    "    search_url = main+f'/search/films/{query}/'\n",
    "    search_page = requests.get(search_url)\n",
    "    search_soup = BeautifulSoup(search_page.content,'html.parser')\n",
    "    try:\n",
    "        first_result_url = main+search_soup.find(class_='film-detail-content').h2.a['href']\n",
    "    except:\n",
    "        raise Exception('The film you searched for was not found. Try searching for a different title.')\n",
    "    return first_result_url"
   ]
  },
  {
   "cell_type": "code",
   "execution_count": 8,
   "metadata": {},
   "outputs": [],
   "source": [
    "def get_genres(film_url):\n",
    "    film_page = requests.get(film_url)\n",
    "    if not page.status_code:\n",
    "        raise Exception('The url does not lead to a valid Letterboxd page. Make sure you entered the correct url for the film.')\n",
    "    film_page = requests.get(film_url)\n",
    "    film_soup = BeautifulSoup(film_page.content,'html.parser')\n",
    "    genre_links = film_soup.find(id='tab-genres').find_all('a')\n",
    "    genres = [genre_links[i].string for i in range(len(genre_links))]\n",
    "    return genres"
   ]
  },
  {
   "cell_type": "code",
   "execution_count": null,
   "metadata": {},
   "outputs": [],
   "source": [
    "def check_popularity(query):\n",
    "    main = 'https://letterboxd.com'\n",
    "    url = search_film(query)\n",
    "    href = url.replace(main,'')\n",
    "    page = 1\n",
    "    films = top()\n",
    "    while href not in films.href.values:\n",
    "        page += 1\n",
    "        films = top(page=page).set_index(films.index+72)\n",
    "    film_info = films.loc[films.href==href]\n",
    "    rank = film_info.index[0]+1\n",
    "    print(f'{film_info.Title.iloc[0]} is ranked #{rank} in popularity')\n",
    "    total_films = 540501\n",
    "    obscurity = rank/total_films\n",
    "    print(f'{film_info.Title.iloc[0]} is more obscure than {obscurity:.5f}% of films on Letterboxd.')\n",
    "    return [film_info.Title.iloc[0],rank,rank/total_films]"
   ]
  },
  {
   "cell_type": "code",
   "execution_count": 12,
   "metadata": {},
   "outputs": [],
   "source": [
    "main = 'https://letterboxd.com'\n",
    "films = top()"
   ]
  },
  {
   "cell_type": "code",
   "execution_count": 75,
   "metadata": {},
   "outputs": [
    {
     "data": {
      "text/html": [
       "<div>\n",
       "<style scoped>\n",
       "    .dataframe tbody tr th:only-of-type {\n",
       "        vertical-align: middle;\n",
       "    }\n",
       "\n",
       "    .dataframe tbody tr th {\n",
       "        vertical-align: top;\n",
       "    }\n",
       "\n",
       "    .dataframe thead th {\n",
       "        text-align: right;\n",
       "    }\n",
       "</style>\n",
       "<table border=\"1\" class=\"dataframe\">\n",
       "  <thead>\n",
       "    <tr style=\"text-align: right;\">\n",
       "      <th></th>\n",
       "      <th>Title</th>\n",
       "      <th>Year</th>\n",
       "      <th>href</th>\n",
       "      <th>Genres</th>\n",
       "    </tr>\n",
       "  </thead>\n",
       "  <tbody>\n",
       "    <tr>\n",
       "      <th>0</th>\n",
       "      <td>Palm Springs</td>\n",
       "      <td>2020</td>\n",
       "      <td>/film/palm-springs-2020/</td>\n",
       "      <td>mystery,fantasy,romance,comedy</td>\n",
       "    </tr>\n",
       "    <tr>\n",
       "      <th>1</th>\n",
       "      <td>Parasite</td>\n",
       "      <td>2019</td>\n",
       "      <td>/film/parasite-2019/</td>\n",
       "      <td>comedy,drama,thriller</td>\n",
       "    </tr>\n",
       "    <tr>\n",
       "      <th>2</th>\n",
       "      <td>Host</td>\n",
       "      <td>2020</td>\n",
       "      <td>/film/host-2020/</td>\n",
       "      <td>horror</td>\n",
       "    </tr>\n",
       "    <tr>\n",
       "      <th>3</th>\n",
       "      <td>The Kissing Booth 2</td>\n",
       "      <td>2020</td>\n",
       "      <td>/film/the-kissing-booth-2/</td>\n",
       "      <td>comedy,romance</td>\n",
       "    </tr>\n",
       "    <tr>\n",
       "      <th>4</th>\n",
       "      <td>Knives Out</td>\n",
       "      <td>2019</td>\n",
       "      <td>/film/knives-out-2019/</td>\n",
       "      <td>mystery,thriller,comedy,drama,crime</td>\n",
       "    </tr>\n",
       "    <tr>\n",
       "      <th>...</th>\n",
       "      <td>...</td>\n",
       "      <td>...</td>\n",
       "      <td>...</td>\n",
       "      <td>...</td>\n",
       "    </tr>\n",
       "    <tr>\n",
       "      <th>67</th>\n",
       "      <td>The Matrix</td>\n",
       "      <td>1999</td>\n",
       "      <td>/film/the-matrix/</td>\n",
       "      <td>action,science fiction</td>\n",
       "    </tr>\n",
       "    <tr>\n",
       "      <th>68</th>\n",
       "      <td>Lost in Translation</td>\n",
       "      <td>2003</td>\n",
       "      <td>/film/lost-in-translation/</td>\n",
       "      <td>comedy,romance,drama</td>\n",
       "    </tr>\n",
       "    <tr>\n",
       "      <th>69</th>\n",
       "      <td>Being John Malkovich</td>\n",
       "      <td>1999</td>\n",
       "      <td>/film/being-john-malkovich/</td>\n",
       "      <td>drama,fantasy,comedy</td>\n",
       "    </tr>\n",
       "    <tr>\n",
       "      <th>70</th>\n",
       "      <td>Zodiac</td>\n",
       "      <td>2007</td>\n",
       "      <td>/film/zodiac/</td>\n",
       "      <td>mystery,thriller,drama,crime</td>\n",
       "    </tr>\n",
       "    <tr>\n",
       "      <th>71</th>\n",
       "      <td>The Shawshank Redemption</td>\n",
       "      <td>1994</td>\n",
       "      <td>/film/the-shawshank-redemption/</td>\n",
       "      <td>drama,crime</td>\n",
       "    </tr>\n",
       "  </tbody>\n",
       "</table>\n",
       "<p>72 rows × 4 columns</p>\n",
       "</div>"
      ],
      "text/plain": [
       "                       Title  Year                             href  \\\n",
       "0               Palm Springs  2020         /film/palm-springs-2020/   \n",
       "1                   Parasite  2019             /film/parasite-2019/   \n",
       "2                       Host  2020                 /film/host-2020/   \n",
       "3        The Kissing Booth 2  2020       /film/the-kissing-booth-2/   \n",
       "4                 Knives Out  2019           /film/knives-out-2019/   \n",
       "..                       ...   ...                              ...   \n",
       "67                The Matrix  1999                /film/the-matrix/   \n",
       "68       Lost in Translation  2003       /film/lost-in-translation/   \n",
       "69      Being John Malkovich  1999      /film/being-john-malkovich/   \n",
       "70                    Zodiac  2007                    /film/zodiac/   \n",
       "71  The Shawshank Redemption  1994  /film/the-shawshank-redemption/   \n",
       "\n",
       "                                 Genres  \n",
       "0        mystery,fantasy,romance,comedy  \n",
       "1                 comedy,drama,thriller  \n",
       "2                                horror  \n",
       "3                        comedy,romance  \n",
       "4   mystery,thriller,comedy,drama,crime  \n",
       "..                                  ...  \n",
       "67               action,science fiction  \n",
       "68                 comedy,romance,drama  \n",
       "69                 drama,fantasy,comedy  \n",
       "70         mystery,thriller,drama,crime  \n",
       "71                          drama,crime  \n",
       "\n",
       "[72 rows x 4 columns]"
      ]
     },
     "execution_count": 75,
     "metadata": {},
     "output_type": "execute_result"
    }
   ],
   "source": [
    "main = 'https://letterboxd.com'\n",
    "for ind in range(len(films)):\n",
    "    film = films.iloc[ind]\n",
    "    film_url = main+film.href\n",
    "    genres = get_genres(film_url)\n",
    "    films.loc[ind,'Genres'] = ','.join(genres)\n",
    "films"
   ]
  },
  {
   "cell_type": "code",
   "execution_count": 10,
   "metadata": {},
   "outputs": [
    {
     "ename": "NameError",
     "evalue": "name 'search' is not defined",
     "output_type": "error",
     "traceback": [
      "\u001b[1;31m---------------------------------------------------------------------------\u001b[0m",
      "\u001b[1;31mNameError\u001b[0m                                 Traceback (most recent call last)",
      "\u001b[1;32m<ipython-input-10-4ba84665b6d3>\u001b[0m in \u001b[0;36m<module>\u001b[1;34m\u001b[0m\n\u001b[1;32m----> 1\u001b[1;33m \u001b[0murl\u001b[0m \u001b[1;33m=\u001b[0m \u001b[0msearch\u001b[0m\u001b[1;33m(\u001b[0m\u001b[1;34m'blade runner'\u001b[0m\u001b[1;33m)\u001b[0m\u001b[1;33m\u001b[0m\u001b[1;33m\u001b[0m\u001b[0m\n\u001b[0m\u001b[0;32m      2\u001b[0m \u001b[0mpage\u001b[0m \u001b[1;33m=\u001b[0m \u001b[0mrequests\u001b[0m\u001b[1;33m.\u001b[0m\u001b[0mget\u001b[0m\u001b[1;33m(\u001b[0m\u001b[0murl\u001b[0m\u001b[1;33m)\u001b[0m\u001b[1;33m\u001b[0m\u001b[1;33m\u001b[0m\u001b[0m\n\u001b[0;32m      3\u001b[0m \u001b[0msoup\u001b[0m \u001b[1;33m=\u001b[0m \u001b[0mBeautifulSoup\u001b[0m\u001b[1;33m(\u001b[0m\u001b[0mpage\u001b[0m\u001b[1;33m.\u001b[0m\u001b[0mcontent\u001b[0m\u001b[1;33m,\u001b[0m\u001b[1;34m'html.parser'\u001b[0m\u001b[1;33m)\u001b[0m\u001b[1;33m\u001b[0m\u001b[1;33m\u001b[0m\u001b[0m\n\u001b[0;32m      4\u001b[0m \u001b[0msoup\u001b[0m\u001b[1;33m.\u001b[0m\u001b[0mfind\u001b[0m\u001b[1;33m(\u001b[0m\u001b[0mclass_\u001b[0m\u001b[1;33m=\u001b[0m\u001b[1;34m'film-stats'\u001b[0m\u001b[1;33m)\u001b[0m\u001b[1;33m\u001b[0m\u001b[1;33m\u001b[0m\u001b[0m\n",
      "\u001b[1;31mNameError\u001b[0m: name 'search' is not defined"
     ]
    }
   ],
   "source": [
    "url = search('blade runner')\n",
    "page = requests.get(url)\n",
    "soup = BeautifulSoup(page.content,'html.parser')\n",
    "soup.find(class_='film-stats')"
   ]
  },
  {
   "cell_type": "code",
   "execution_count": 39,
   "metadata": {},
   "outputs": [
    {
     "data": {
      "text/plain": [
       "'https://letterboxd.com/film/star-wars-episode-iii-revenge-of-the-sith/'"
      ]
     },
     "execution_count": 39,
     "metadata": {},
     "output_type": "execute_result"
    }
   ],
   "source": [
    "url = search_film('star wars episode iii')\n",
    "url"
   ]
  },
  {
   "cell_type": "code",
   "execution_count": 105,
   "metadata": {},
   "outputs": [
    {
     "name": "stdout",
     "output_type": "stream",
     "text": [
      "Scott Pilgrim vs. the World is ranked #69 in popularity\n",
      "Scott Pilgrim vs. the World is more obscure than 0.00013% of films on Letterboxd.\n"
     ]
    },
    {
     "data": {
      "text/plain": [
       "['Scott Pilgrim vs. the World', 69, 0.00012765933828059523]"
      ]
     },
     "execution_count": 105,
     "metadata": {},
     "output_type": "execute_result"
    }
   ],
   "source": [
    "check_popularity('scott pilgrim')"
   ]
  },
  {
   "cell_type": "code",
   "execution_count": 68,
   "metadata": {},
   "outputs": [
    {
     "data": {
      "text/html": [
       "<div>\n",
       "<style scoped>\n",
       "    .dataframe tbody tr th:only-of-type {\n",
       "        vertical-align: middle;\n",
       "    }\n",
       "\n",
       "    .dataframe tbody tr th {\n",
       "        vertical-align: top;\n",
       "    }\n",
       "\n",
       "    .dataframe thead th {\n",
       "        text-align: right;\n",
       "    }\n",
       "</style>\n",
       "<table border=\"1\" class=\"dataframe\">\n",
       "  <thead>\n",
       "    <tr style=\"text-align: right;\">\n",
       "      <th></th>\n",
       "      <th>Title</th>\n",
       "      <th>Year</th>\n",
       "      <th>href</th>\n",
       "    </tr>\n",
       "  </thead>\n",
       "  <tbody>\n",
       "    <tr>\n",
       "      <th>144</th>\n",
       "      <td>Room</td>\n",
       "      <td>2015</td>\n",
       "      <td>/film/room-2015/</td>\n",
       "    </tr>\n",
       "    <tr>\n",
       "      <th>145</th>\n",
       "      <td>Toy Story 4</td>\n",
       "      <td>2019</td>\n",
       "      <td>/film/toy-story-4/</td>\n",
       "    </tr>\n",
       "    <tr>\n",
       "      <th>146</th>\n",
       "      <td>Harry Potter and the Prisoner of Azkaban</td>\n",
       "      <td>2004</td>\n",
       "      <td>/film/harry-potter-and-the-prisoner-of-azkaban/</td>\n",
       "    </tr>\n",
       "    <tr>\n",
       "      <th>147</th>\n",
       "      <td>Zootopia</td>\n",
       "      <td>2016</td>\n",
       "      <td>/film/zootopia/</td>\n",
       "    </tr>\n",
       "    <tr>\n",
       "      <th>148</th>\n",
       "      <td>Snowpiercer</td>\n",
       "      <td>2013</td>\n",
       "      <td>/film/snowpiercer/</td>\n",
       "    </tr>\n",
       "    <tr>\n",
       "      <th>...</th>\n",
       "      <td>...</td>\n",
       "      <td>...</td>\n",
       "      <td>...</td>\n",
       "    </tr>\n",
       "    <tr>\n",
       "      <th>211</th>\n",
       "      <td>The Hunger Games</td>\n",
       "      <td>2012</td>\n",
       "      <td>/film/the-hunger-games/</td>\n",
       "    </tr>\n",
       "    <tr>\n",
       "      <th>212</th>\n",
       "      <td>The Disaster Artist</td>\n",
       "      <td>2017</td>\n",
       "      <td>/film/the-disaster-artist/</td>\n",
       "    </tr>\n",
       "    <tr>\n",
       "      <th>213</th>\n",
       "      <td>Sicario</td>\n",
       "      <td>2015</td>\n",
       "      <td>/film/sicario-2015/</td>\n",
       "    </tr>\n",
       "    <tr>\n",
       "      <th>214</th>\n",
       "      <td>Fantastic Beasts and Where to Find Them</td>\n",
       "      <td>2016</td>\n",
       "      <td>/film/fantastic-beasts-and-where-to-find-them/</td>\n",
       "    </tr>\n",
       "    <tr>\n",
       "      <th>215</th>\n",
       "      <td>The Thing</td>\n",
       "      <td>1982</td>\n",
       "      <td>/film/the-thing/</td>\n",
       "    </tr>\n",
       "  </tbody>\n",
       "</table>\n",
       "<p>72 rows × 3 columns</p>\n",
       "</div>"
      ],
      "text/plain": [
       "                                        Title  Year  \\\n",
       "144                                      Room  2015   \n",
       "145                               Toy Story 4  2019   \n",
       "146  Harry Potter and the Prisoner of Azkaban  2004   \n",
       "147                                  Zootopia  2016   \n",
       "148                               Snowpiercer  2013   \n",
       "..                                        ...   ...   \n",
       "211                          The Hunger Games  2012   \n",
       "212                       The Disaster Artist  2017   \n",
       "213                                   Sicario  2015   \n",
       "214   Fantastic Beasts and Where to Find Them  2016   \n",
       "215                                 The Thing  1982   \n",
       "\n",
       "                                                href  \n",
       "144                                 /film/room-2015/  \n",
       "145                               /film/toy-story-4/  \n",
       "146  /film/harry-potter-and-the-prisoner-of-azkaban/  \n",
       "147                                  /film/zootopia/  \n",
       "148                               /film/snowpiercer/  \n",
       "..                                               ...  \n",
       "211                          /film/the-hunger-games/  \n",
       "212                       /film/the-disaster-artist/  \n",
       "213                              /film/sicario-2015/  \n",
       "214   /film/fantastic-beasts-and-where-to-find-them/  \n",
       "215                                 /film/the-thing/  \n",
       "\n",
       "[72 rows x 3 columns]"
      ]
     },
     "execution_count": 68,
     "metadata": {},
     "output_type": "execute_result"
    }
   ],
   "source": [
    "films"
   ]
  },
  {
   "cell_type": "code",
   "execution_count": 47,
   "metadata": {},
   "outputs": [
    {
     "data": {
      "text/html": [
       "<div>\n",
       "<style scoped>\n",
       "    .dataframe tbody tr th:only-of-type {\n",
       "        vertical-align: middle;\n",
       "    }\n",
       "\n",
       "    .dataframe tbody tr th {\n",
       "        vertical-align: top;\n",
       "    }\n",
       "\n",
       "    .dataframe thead th {\n",
       "        text-align: right;\n",
       "    }\n",
       "</style>\n",
       "<table border=\"1\" class=\"dataframe\">\n",
       "  <thead>\n",
       "    <tr style=\"text-align: right;\">\n",
       "      <th></th>\n",
       "      <th>Title</th>\n",
       "      <th>Year</th>\n",
       "      <th>href</th>\n",
       "    </tr>\n",
       "  </thead>\n",
       "  <tbody>\n",
       "    <tr>\n",
       "      <th>0</th>\n",
       "      <td>Room</td>\n",
       "      <td>2015</td>\n",
       "      <td>/film/room-2015/</td>\n",
       "    </tr>\n",
       "    <tr>\n",
       "      <th>1</th>\n",
       "      <td>Toy Story 4</td>\n",
       "      <td>2019</td>\n",
       "      <td>/film/toy-story-4/</td>\n",
       "    </tr>\n",
       "    <tr>\n",
       "      <th>2</th>\n",
       "      <td>Harry Potter and the Prisoner of Azkaban</td>\n",
       "      <td>2004</td>\n",
       "      <td>/film/harry-potter-and-the-prisoner-of-azkaban/</td>\n",
       "    </tr>\n",
       "    <tr>\n",
       "      <th>3</th>\n",
       "      <td>Zootopia</td>\n",
       "      <td>2016</td>\n",
       "      <td>/film/zootopia/</td>\n",
       "    </tr>\n",
       "    <tr>\n",
       "      <th>4</th>\n",
       "      <td>Snowpiercer</td>\n",
       "      <td>2013</td>\n",
       "      <td>/film/snowpiercer/</td>\n",
       "    </tr>\n",
       "    <tr>\n",
       "      <th>...</th>\n",
       "      <td>...</td>\n",
       "      <td>...</td>\n",
       "      <td>...</td>\n",
       "    </tr>\n",
       "    <tr>\n",
       "      <th>67</th>\n",
       "      <td>The Hunger Games</td>\n",
       "      <td>2012</td>\n",
       "      <td>/film/the-hunger-games/</td>\n",
       "    </tr>\n",
       "    <tr>\n",
       "      <th>68</th>\n",
       "      <td>The Disaster Artist</td>\n",
       "      <td>2017</td>\n",
       "      <td>/film/the-disaster-artist/</td>\n",
       "    </tr>\n",
       "    <tr>\n",
       "      <th>69</th>\n",
       "      <td>Sicario</td>\n",
       "      <td>2015</td>\n",
       "      <td>/film/sicario-2015/</td>\n",
       "    </tr>\n",
       "    <tr>\n",
       "      <th>70</th>\n",
       "      <td>Fantastic Beasts and Where to Find Them</td>\n",
       "      <td>2016</td>\n",
       "      <td>/film/fantastic-beasts-and-where-to-find-them/</td>\n",
       "    </tr>\n",
       "    <tr>\n",
       "      <th>71</th>\n",
       "      <td>The Thing</td>\n",
       "      <td>1982</td>\n",
       "      <td>/film/the-thing/</td>\n",
       "    </tr>\n",
       "  </tbody>\n",
       "</table>\n",
       "<p>72 rows × 3 columns</p>\n",
       "</div>"
      ],
      "text/plain": [
       "                                       Title  Year  \\\n",
       "0                                       Room  2015   \n",
       "1                                Toy Story 4  2019   \n",
       "2   Harry Potter and the Prisoner of Azkaban  2004   \n",
       "3                                   Zootopia  2016   \n",
       "4                                Snowpiercer  2013   \n",
       "..                                       ...   ...   \n",
       "67                          The Hunger Games  2012   \n",
       "68                       The Disaster Artist  2017   \n",
       "69                                   Sicario  2015   \n",
       "70   Fantastic Beasts and Where to Find Them  2016   \n",
       "71                                 The Thing  1982   \n",
       "\n",
       "                                               href  \n",
       "0                                  /film/room-2015/  \n",
       "1                                /film/toy-story-4/  \n",
       "2   /film/harry-potter-and-the-prisoner-of-azkaban/  \n",
       "3                                   /film/zootopia/  \n",
       "4                                /film/snowpiercer/  \n",
       "..                                              ...  \n",
       "67                          /film/the-hunger-games/  \n",
       "68                       /film/the-disaster-artist/  \n",
       "69                              /film/sicario-2015/  \n",
       "70   /film/fantastic-beasts-and-where-to-find-them/  \n",
       "71                                 /film/the-thing/  \n",
       "\n",
       "[72 rows x 3 columns]"
      ]
     },
     "execution_count": 47,
     "metadata": {},
     "output_type": "execute_result"
    }
   ],
   "source": [
    "top(page=3)"
   ]
  },
  {
   "cell_type": "code",
   "execution_count": 55,
   "metadata": {},
   "outputs": [
    {
     "data": {
      "text/plain": [
       "False"
      ]
     },
     "execution_count": 55,
     "metadata": {},
     "output_type": "execute_result"
    }
   ],
   "source": [
    "url.replace(main,'') not in top(page=3).href.values"
   ]
  },
  {
   "cell_type": "code",
   "execution_count": 50,
   "metadata": {},
   "outputs": [
    {
     "data": {
      "text/plain": [
       "'/film/star-wars-episode-iii-revenge-of-the-sith/'"
      ]
     },
     "execution_count": 50,
     "metadata": {},
     "output_type": "execute_result"
    }
   ],
   "source": [
    "url.replace(main,'')"
   ]
  },
  {
   "cell_type": "code",
   "execution_count": null,
   "metadata": {},
   "outputs": [],
   "source": []
  }
 ],
 "metadata": {
  "kernelspec": {
   "display_name": "Python 3",
   "language": "python",
   "name": "python3"
  },
  "language_info": {
   "codemirror_mode": {
    "name": "ipython",
    "version": 3
   },
   "file_extension": ".py",
   "mimetype": "text/x-python",
   "name": "python",
   "nbconvert_exporter": "python",
   "pygments_lexer": "ipython3",
   "version": "3.8.5"
  }
 },
 "nbformat": 4,
 "nbformat_minor": 4
}
