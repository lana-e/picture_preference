{
 "cells": [
  {
   "cell_type": "code",
   "execution_count": 1,
   "metadata": {},
   "outputs": [],
   "source": [
    "import requests\n",
    "from bs4 import BeautifulSoup\n",
    "import pandas as pd\n",
    "import timeit"
   ]
  },
  {
   "cell_type": "code",
   "execution_count": 9,
   "metadata": {},
   "outputs": [],
   "source": [
    "def top(time_period='',page=1):\n",
    "    url = 'https://letterboxd.com/films/ajax/popular/'+time_period+'/size/small/'\n",
    "    if page != 1:\n",
    "        url = url+f'page/{page}/'\n",
    "    page = requests.get(url)\n",
    "    soup = BeautifulSoup(page.content,'html.parser')\n",
    "    films_divs = soup.find_all(title=True)\n",
    "    films = pd.DataFrame()\n",
    "    films['Title'] = [films_divs[i]['title'][:-7] for i in range(len(films_divs))]\n",
    "    films['Year'] = [films_divs[i]['title'][-5:-1] for i in range(len(films_divs))]\n",
    "    films['href'] = [films_divs[i]['href'] for i in range(len(films_divs))]\n",
    "    return films"
   ]
  },
  {
   "cell_type": "code",
   "execution_count": 10,
   "metadata": {},
   "outputs": [],
   "source": [
    "def search_film(query):\n",
    "    query = str(query).replace(' ','+')\n",
    "    search_url = main+f'/search/films/{query}/'\n",
    "    search_page = requests.get(search_url)\n",
    "    search_soup = BeautifulSoup(search_page.content,'html.parser')\n",
    "    try:\n",
    "        first_result_url = main+search_soup.find(class_='film-detail-content').h2.a['href']\n",
    "    except:\n",
    "        raise Exception('The film you searched for was not found. Try searching for a different title.')\n",
    "    return first_result_url"
   ]
  },
  {
   "cell_type": "code",
   "execution_count": 11,
   "metadata": {},
   "outputs": [],
   "source": [
    "def get_genres(film_url):\n",
    "    film_page = requests.get(film_url)\n",
    "    if not film_page.status_code:\n",
    "        raise Exception('The url does not lead to a valid Letterboxd page. Make sure you entered the correct url for the film.')\n",
    "    film_page = requests.get(film_url)\n",
    "    film_soup = BeautifulSoup(film_page.content,'html.parser')\n",
    "    genre_links = film_soup.find(id='tab-genres').find_all('a')\n",
    "    genres = [genre_links[i].string for i in range(len(genre_links))]\n",
    "    return genres"
   ]
  },
  {
   "cell_type": "code",
   "execution_count": 12,
   "metadata": {},
   "outputs": [],
   "source": [
    "def check_popularity(query):\n",
    "    main = 'https://letterboxd.com'\n",
    "    url = search_film(query)\n",
    "    href = url.replace(main,'')\n",
    "    page = 1\n",
    "    films = top()\n",
    "    while href not in films.href.values:\n",
    "        page += 1\n",
    "        films = top(page=page).set_index(films.index+72)\n",
    "    film_info = films.loc[films.href==href]\n",
    "    rank = film_info.index[0]+1\n",
    "    print(f'{film_info.Title.iloc[0]} is ranked #{rank} in popularity')\n",
    "    total_films = 540501\n",
    "    obscurity = rank/total_films\n",
    "    print(f'{film_info.Title.iloc[0]} is more obscure than {obscurity:.5f}% of films on Letterboxd.')\n",
    "    return [film_info.Title.iloc[0],rank,rank/total_films]"
   ]
  },
  {
   "cell_type": "code",
   "execution_count": 13,
   "metadata": {},
   "outputs": [],
   "source": [
    "def top_pages(time_period='',page_num=10):\n",
    "    titles = []\n",
    "    hrefs = []\n",
    "    rank = []\n",
    "    for top_page in range(1,page_num+1):\n",
    "        url = 'https://letterboxd.com/films/ajax/popular/'+time_period+'/size/small/'\n",
    "        if page_num != 1:\n",
    "            url = url+f'page/{page_num}/'\n",
    "        page = requests.get(url)\n",
    "        soup = BeautifulSoup(page.content,'html.parser')\n",
    "        films_divs = soup.find_all(title=True)\n",
    "        for i in range(len(films_divs)):\n",
    "            titles.append(films_divs[i]['title'])\n",
    "            hrefs.append(films_divs[i]['href'])\n",
    "            rank.append(i+1+(page_num-1)*72)\n",
    "    return titles, hrefs, rank"
   ]
  },
  {
   "cell_type": "code",
   "execution_count": 19,
   "metadata": {},
   "outputs": [],
   "source": [
    "main = 'https://letterboxd.com'\n",
    "films = top()"
   ]
  },
  {
   "cell_type": "code",
   "execution_count": 20,
   "metadata": {},
   "outputs": [
    {
     "data": {
      "text/html": [
       "<div>\n",
       "<style scoped>\n",
       "    .dataframe tbody tr th:only-of-type {\n",
       "        vertical-align: middle;\n",
       "    }\n",
       "\n",
       "    .dataframe tbody tr th {\n",
       "        vertical-align: top;\n",
       "    }\n",
       "\n",
       "    .dataframe thead th {\n",
       "        text-align: right;\n",
       "    }\n",
       "</style>\n",
       "<table border=\"1\" class=\"dataframe\">\n",
       "  <thead>\n",
       "    <tr style=\"text-align: right;\">\n",
       "      <th></th>\n",
       "      <th>Title</th>\n",
       "      <th>Year</th>\n",
       "      <th>href</th>\n",
       "      <th>Genres</th>\n",
       "    </tr>\n",
       "  </thead>\n",
       "  <tbody>\n",
       "    <tr>\n",
       "      <th>0</th>\n",
       "      <td>Parasite</td>\n",
       "      <td>2019</td>\n",
       "      <td>/film/parasite-2019/</td>\n",
       "      <td>comedy,drama,thriller</td>\n",
       "    </tr>\n",
       "    <tr>\n",
       "      <th>1</th>\n",
       "      <td>Joker</td>\n",
       "      <td>2019</td>\n",
       "      <td>/film/joker-2019/</td>\n",
       "      <td>crime,drama,thriller</td>\n",
       "    </tr>\n",
       "    <tr>\n",
       "      <th>2</th>\n",
       "      <td>Knives Out</td>\n",
       "      <td>2019</td>\n",
       "      <td>/film/knives-out-2019/</td>\n",
       "      <td>mystery,thriller,comedy,drama,crime</td>\n",
       "    </tr>\n",
       "    <tr>\n",
       "      <th>3</th>\n",
       "      <td>Get Out</td>\n",
       "      <td>2017</td>\n",
       "      <td>/film/get-out-2017/</td>\n",
       "      <td>thriller,horror,mystery</td>\n",
       "    </tr>\n",
       "    <tr>\n",
       "      <th>4</th>\n",
       "      <td>Pulp Fiction</td>\n",
       "      <td>1994</td>\n",
       "      <td>/film/pulp-fiction/</td>\n",
       "      <td>crime,thriller</td>\n",
       "    </tr>\n",
       "    <tr>\n",
       "      <th>...</th>\n",
       "      <td>...</td>\n",
       "      <td>...</td>\n",
       "      <td>...</td>\n",
       "      <td>...</td>\n",
       "    </tr>\n",
       "    <tr>\n",
       "      <th>67</th>\n",
       "      <td>The Favourite</td>\n",
       "      <td>2018</td>\n",
       "      <td>/film/the-favourite/</td>\n",
       "      <td>comedy,history,drama</td>\n",
       "    </tr>\n",
       "    <tr>\n",
       "      <th>68</th>\n",
       "      <td>Scott Pilgrim vs. the World</td>\n",
       "      <td>2010</td>\n",
       "      <td>/film/scott-pilgrim-vs-the-world/</td>\n",
       "      <td>romance,comedy,action,fantasy,music</td>\n",
       "    </tr>\n",
       "    <tr>\n",
       "      <th>69</th>\n",
       "      <td>It</td>\n",
       "      <td>2017</td>\n",
       "      <td>/film/it-2017/</td>\n",
       "      <td>horror</td>\n",
       "    </tr>\n",
       "    <tr>\n",
       "      <th>70</th>\n",
       "      <td>The Empire Strikes Back</td>\n",
       "      <td>1980</td>\n",
       "      <td>/film/the-empire-strikes-back/</td>\n",
       "      <td>science fiction,adventure,action</td>\n",
       "    </tr>\n",
       "    <tr>\n",
       "      <th>71</th>\n",
       "      <td>The Truman Show</td>\n",
       "      <td>1998</td>\n",
       "      <td>/film/the-truman-show/</td>\n",
       "      <td>comedy,drama</td>\n",
       "    </tr>\n",
       "  </tbody>\n",
       "</table>\n",
       "<p>72 rows × 4 columns</p>\n",
       "</div>"
      ],
      "text/plain": [
       "                          Title  Year                               href  \\\n",
       "0                      Parasite  2019               /film/parasite-2019/   \n",
       "1                         Joker  2019                  /film/joker-2019/   \n",
       "2                    Knives Out  2019             /film/knives-out-2019/   \n",
       "3                       Get Out  2017                /film/get-out-2017/   \n",
       "4                  Pulp Fiction  1994                /film/pulp-fiction/   \n",
       "..                          ...   ...                                ...   \n",
       "67                The Favourite  2018               /film/the-favourite/   \n",
       "68  Scott Pilgrim vs. the World  2010  /film/scott-pilgrim-vs-the-world/   \n",
       "69                           It  2017                     /film/it-2017/   \n",
       "70      The Empire Strikes Back  1980     /film/the-empire-strikes-back/   \n",
       "71              The Truman Show  1998             /film/the-truman-show/   \n",
       "\n",
       "                                 Genres  \n",
       "0                 comedy,drama,thriller  \n",
       "1                  crime,drama,thriller  \n",
       "2   mystery,thriller,comedy,drama,crime  \n",
       "3               thriller,horror,mystery  \n",
       "4                        crime,thriller  \n",
       "..                                  ...  \n",
       "67                 comedy,history,drama  \n",
       "68  romance,comedy,action,fantasy,music  \n",
       "69                               horror  \n",
       "70     science fiction,adventure,action  \n",
       "71                         comedy,drama  \n",
       "\n",
       "[72 rows x 4 columns]"
      ]
     },
     "execution_count": 20,
     "metadata": {},
     "output_type": "execute_result"
    }
   ],
   "source": [
    "main = 'https://letterboxd.com'\n",
    "for ind in range(len(films)):\n",
    "    film = films.iloc[ind]\n",
    "    film_url = main+film.href\n",
    "    genres = get_genres(film_url)\n",
    "    films.loc[ind,'Genres'] = ','.join(genres)\n",
    "films"
   ]
  },
  {
   "cell_type": "code",
   "execution_count": 9,
   "metadata": {},
   "outputs": [
    {
     "data": {
      "text/plain": [
       "<ul class=\"film-stats\"> <li class=\"stat\"><a class=\"has-icon icon-placeholder\"> </a></li> </ul>"
      ]
     },
     "execution_count": 9,
     "metadata": {},
     "output_type": "execute_result"
    }
   ],
   "source": [
    "url = search_film('blade runner')\n",
    "page = requests.get(url)\n",
    "soup = BeautifulSoup(page.content,'html.parser')\n",
    "soup.find(class_='film-stats')"
   ]
  },
  {
   "cell_type": "code",
   "execution_count": 39,
   "metadata": {},
   "outputs": [
    {
     "data": {
      "text/plain": [
       "'https://letterboxd.com/film/star-wars-episode-iii-revenge-of-the-sith/'"
      ]
     },
     "execution_count": 39,
     "metadata": {},
     "output_type": "execute_result"
    }
   ],
   "source": [
    "url = search_film('star wars episode iii')\n",
    "url"
   ]
  },
  {
   "cell_type": "code",
   "execution_count": 105,
   "metadata": {},
   "outputs": [
    {
     "name": "stdout",
     "output_type": "stream",
     "text": [
      "Scott Pilgrim vs. the World is ranked #69 in popularity\n",
      "Scott Pilgrim vs. the World is more obscure than 0.00013% of films on Letterboxd.\n"
     ]
    },
    {
     "data": {
      "text/plain": [
       "['Scott Pilgrim vs. the World', 69, 0.00012765933828059523]"
      ]
     },
     "execution_count": 105,
     "metadata": {},
     "output_type": "execute_result"
    }
   ],
   "source": [
    "check_popularity('scott pilgrim')"
   ]
  },
  {
   "cell_type": "code",
   "execution_count": 68,
   "metadata": {},
   "outputs": [
    {
     "data": {
      "text/html": [
       "<div>\n",
       "<style scoped>\n",
       "    .dataframe tbody tr th:only-of-type {\n",
       "        vertical-align: middle;\n",
       "    }\n",
       "\n",
       "    .dataframe tbody tr th {\n",
       "        vertical-align: top;\n",
       "    }\n",
       "\n",
       "    .dataframe thead th {\n",
       "        text-align: right;\n",
       "    }\n",
       "</style>\n",
       "<table border=\"1\" class=\"dataframe\">\n",
       "  <thead>\n",
       "    <tr style=\"text-align: right;\">\n",
       "      <th></th>\n",
       "      <th>Title</th>\n",
       "      <th>Year</th>\n",
       "      <th>href</th>\n",
       "    </tr>\n",
       "  </thead>\n",
       "  <tbody>\n",
       "    <tr>\n",
       "      <th>144</th>\n",
       "      <td>Room</td>\n",
       "      <td>2015</td>\n",
       "      <td>/film/room-2015/</td>\n",
       "    </tr>\n",
       "    <tr>\n",
       "      <th>145</th>\n",
       "      <td>Toy Story 4</td>\n",
       "      <td>2019</td>\n",
       "      <td>/film/toy-story-4/</td>\n",
       "    </tr>\n",
       "    <tr>\n",
       "      <th>146</th>\n",
       "      <td>Harry Potter and the Prisoner of Azkaban</td>\n",
       "      <td>2004</td>\n",
       "      <td>/film/harry-potter-and-the-prisoner-of-azkaban/</td>\n",
       "    </tr>\n",
       "    <tr>\n",
       "      <th>147</th>\n",
       "      <td>Zootopia</td>\n",
       "      <td>2016</td>\n",
       "      <td>/film/zootopia/</td>\n",
       "    </tr>\n",
       "    <tr>\n",
       "      <th>148</th>\n",
       "      <td>Snowpiercer</td>\n",
       "      <td>2013</td>\n",
       "      <td>/film/snowpiercer/</td>\n",
       "    </tr>\n",
       "    <tr>\n",
       "      <th>...</th>\n",
       "      <td>...</td>\n",
       "      <td>...</td>\n",
       "      <td>...</td>\n",
       "    </tr>\n",
       "    <tr>\n",
       "      <th>211</th>\n",
       "      <td>The Hunger Games</td>\n",
       "      <td>2012</td>\n",
       "      <td>/film/the-hunger-games/</td>\n",
       "    </tr>\n",
       "    <tr>\n",
       "      <th>212</th>\n",
       "      <td>The Disaster Artist</td>\n",
       "      <td>2017</td>\n",
       "      <td>/film/the-disaster-artist/</td>\n",
       "    </tr>\n",
       "    <tr>\n",
       "      <th>213</th>\n",
       "      <td>Sicario</td>\n",
       "      <td>2015</td>\n",
       "      <td>/film/sicario-2015/</td>\n",
       "    </tr>\n",
       "    <tr>\n",
       "      <th>214</th>\n",
       "      <td>Fantastic Beasts and Where to Find Them</td>\n",
       "      <td>2016</td>\n",
       "      <td>/film/fantastic-beasts-and-where-to-find-them/</td>\n",
       "    </tr>\n",
       "    <tr>\n",
       "      <th>215</th>\n",
       "      <td>The Thing</td>\n",
       "      <td>1982</td>\n",
       "      <td>/film/the-thing/</td>\n",
       "    </tr>\n",
       "  </tbody>\n",
       "</table>\n",
       "<p>72 rows × 3 columns</p>\n",
       "</div>"
      ],
      "text/plain": [
       "                                        Title  Year  \\\n",
       "144                                      Room  2015   \n",
       "145                               Toy Story 4  2019   \n",
       "146  Harry Potter and the Prisoner of Azkaban  2004   \n",
       "147                                  Zootopia  2016   \n",
       "148                               Snowpiercer  2013   \n",
       "..                                        ...   ...   \n",
       "211                          The Hunger Games  2012   \n",
       "212                       The Disaster Artist  2017   \n",
       "213                                   Sicario  2015   \n",
       "214   Fantastic Beasts and Where to Find Them  2016   \n",
       "215                                 The Thing  1982   \n",
       "\n",
       "                                                href  \n",
       "144                                 /film/room-2015/  \n",
       "145                               /film/toy-story-4/  \n",
       "146  /film/harry-potter-and-the-prisoner-of-azkaban/  \n",
       "147                                  /film/zootopia/  \n",
       "148                               /film/snowpiercer/  \n",
       "..                                               ...  \n",
       "211                          /film/the-hunger-games/  \n",
       "212                       /film/the-disaster-artist/  \n",
       "213                              /film/sicario-2015/  \n",
       "214   /film/fantastic-beasts-and-where-to-find-them/  \n",
       "215                                 /film/the-thing/  \n",
       "\n",
       "[72 rows x 3 columns]"
      ]
     },
     "execution_count": 68,
     "metadata": {},
     "output_type": "execute_result"
    }
   ],
   "source": [
    "films"
   ]
  },
  {
   "cell_type": "code",
   "execution_count": 47,
   "metadata": {},
   "outputs": [
    {
     "data": {
      "text/html": [
       "<div>\n",
       "<style scoped>\n",
       "    .dataframe tbody tr th:only-of-type {\n",
       "        vertical-align: middle;\n",
       "    }\n",
       "\n",
       "    .dataframe tbody tr th {\n",
       "        vertical-align: top;\n",
       "    }\n",
       "\n",
       "    .dataframe thead th {\n",
       "        text-align: right;\n",
       "    }\n",
       "</style>\n",
       "<table border=\"1\" class=\"dataframe\">\n",
       "  <thead>\n",
       "    <tr style=\"text-align: right;\">\n",
       "      <th></th>\n",
       "      <th>Title</th>\n",
       "      <th>Year</th>\n",
       "      <th>href</th>\n",
       "    </tr>\n",
       "  </thead>\n",
       "  <tbody>\n",
       "    <tr>\n",
       "      <th>0</th>\n",
       "      <td>Room</td>\n",
       "      <td>2015</td>\n",
       "      <td>/film/room-2015/</td>\n",
       "    </tr>\n",
       "    <tr>\n",
       "      <th>1</th>\n",
       "      <td>Toy Story 4</td>\n",
       "      <td>2019</td>\n",
       "      <td>/film/toy-story-4/</td>\n",
       "    </tr>\n",
       "    <tr>\n",
       "      <th>2</th>\n",
       "      <td>Harry Potter and the Prisoner of Azkaban</td>\n",
       "      <td>2004</td>\n",
       "      <td>/film/harry-potter-and-the-prisoner-of-azkaban/</td>\n",
       "    </tr>\n",
       "    <tr>\n",
       "      <th>3</th>\n",
       "      <td>Zootopia</td>\n",
       "      <td>2016</td>\n",
       "      <td>/film/zootopia/</td>\n",
       "    </tr>\n",
       "    <tr>\n",
       "      <th>4</th>\n",
       "      <td>Snowpiercer</td>\n",
       "      <td>2013</td>\n",
       "      <td>/film/snowpiercer/</td>\n",
       "    </tr>\n",
       "    <tr>\n",
       "      <th>...</th>\n",
       "      <td>...</td>\n",
       "      <td>...</td>\n",
       "      <td>...</td>\n",
       "    </tr>\n",
       "    <tr>\n",
       "      <th>67</th>\n",
       "      <td>The Hunger Games</td>\n",
       "      <td>2012</td>\n",
       "      <td>/film/the-hunger-games/</td>\n",
       "    </tr>\n",
       "    <tr>\n",
       "      <th>68</th>\n",
       "      <td>The Disaster Artist</td>\n",
       "      <td>2017</td>\n",
       "      <td>/film/the-disaster-artist/</td>\n",
       "    </tr>\n",
       "    <tr>\n",
       "      <th>69</th>\n",
       "      <td>Sicario</td>\n",
       "      <td>2015</td>\n",
       "      <td>/film/sicario-2015/</td>\n",
       "    </tr>\n",
       "    <tr>\n",
       "      <th>70</th>\n",
       "      <td>Fantastic Beasts and Where to Find Them</td>\n",
       "      <td>2016</td>\n",
       "      <td>/film/fantastic-beasts-and-where-to-find-them/</td>\n",
       "    </tr>\n",
       "    <tr>\n",
       "      <th>71</th>\n",
       "      <td>The Thing</td>\n",
       "      <td>1982</td>\n",
       "      <td>/film/the-thing/</td>\n",
       "    </tr>\n",
       "  </tbody>\n",
       "</table>\n",
       "<p>72 rows × 3 columns</p>\n",
       "</div>"
      ],
      "text/plain": [
       "                                       Title  Year  \\\n",
       "0                                       Room  2015   \n",
       "1                                Toy Story 4  2019   \n",
       "2   Harry Potter and the Prisoner of Azkaban  2004   \n",
       "3                                   Zootopia  2016   \n",
       "4                                Snowpiercer  2013   \n",
       "..                                       ...   ...   \n",
       "67                          The Hunger Games  2012   \n",
       "68                       The Disaster Artist  2017   \n",
       "69                                   Sicario  2015   \n",
       "70   Fantastic Beasts and Where to Find Them  2016   \n",
       "71                                 The Thing  1982   \n",
       "\n",
       "                                               href  \n",
       "0                                  /film/room-2015/  \n",
       "1                                /film/toy-story-4/  \n",
       "2   /film/harry-potter-and-the-prisoner-of-azkaban/  \n",
       "3                                   /film/zootopia/  \n",
       "4                                /film/snowpiercer/  \n",
       "..                                              ...  \n",
       "67                          /film/the-hunger-games/  \n",
       "68                       /film/the-disaster-artist/  \n",
       "69                              /film/sicario-2015/  \n",
       "70   /film/fantastic-beasts-and-where-to-find-them/  \n",
       "71                                 /film/the-thing/  \n",
       "\n",
       "[72 rows x 3 columns]"
      ]
     },
     "execution_count": 47,
     "metadata": {},
     "output_type": "execute_result"
    }
   ],
   "source": [
    "top(page=3)"
   ]
  },
  {
   "cell_type": "code",
   "execution_count": 55,
   "metadata": {},
   "outputs": [
    {
     "data": {
      "text/plain": [
       "False"
      ]
     },
     "execution_count": 55,
     "metadata": {},
     "output_type": "execute_result"
    }
   ],
   "source": [
    "url.replace(main,'') not in top(page=3).href.values"
   ]
  },
  {
   "cell_type": "code",
   "execution_count": 50,
   "metadata": {},
   "outputs": [
    {
     "data": {
      "text/plain": [
       "'/film/star-wars-episode-iii-revenge-of-the-sith/'"
      ]
     },
     "execution_count": 50,
     "metadata": {},
     "output_type": "execute_result"
    }
   ],
   "source": [
    "url.replace(main,'')"
   ]
  },
  {
   "cell_type": "code",
   "execution_count": 12,
   "metadata": {},
   "outputs": [
    {
     "name": "stdout",
     "output_type": "stream",
     "text": [
      "6\n",
      "range(0, 6)\n",
      "range(1, 7)\n",
      "[1, 2, 3, 4, 5, 6]\n"
     ]
    }
   ],
   "source": [
    "a = [0,1,2,3,4,5]\n",
    "print(len(a))\n",
    "print(range(len(a)))\n",
    "print(range(1,len(a)+1))\n",
    "b = [i for i in range(1,len(a)+1)]\n",
    "print(b)"
   ]
  },
  {
   "cell_type": "code",
   "execution_count": 8,
   "metadata": {},
   "outputs": [
    {
     "data": {
      "text/plain": [
       "['Guardians of the Galaxy Vol. 2 (2017)',\n",
       " 'The Lord of the Rings: The Fellowship of the Ring (2001)',\n",
       " '2001: A Space Odyssey (1968)',\n",
       " 'Blade Runner (1982)',\n",
       " 'Logan (2017)',\n",
       " 'The Irishman (2019)',\n",
       " 'Black Swan (2010)',\n",
       " 'The Shawshank Redemption (1994)',\n",
       " 'Star Wars: The Rise of Skywalker (2019)',\n",
       " 'Back to the Future (1985)',\n",
       " 'Nightcrawler (2014)',\n",
       " 'Three Billboards Outside Ebbing, Missouri (2017)',\n",
       " 'Booksmart (2019)',\n",
       " 'Captain America: Civil War (2016)',\n",
       " 'The Martian (2015)',\n",
       " 'Rogue One: A Star Wars Story (2016)',\n",
       " 'Spider-Man: Far from Home (2019)',\n",
       " 'Bohemian Rhapsody (2018)',\n",
       " 'The Revenant (2015)',\n",
       " 'No Country for Old Men (2007)',\n",
       " 'Captain Marvel (2019)',\n",
       " 'Doctor Strange (2016)',\n",
       " 'Reservoir Dogs (1992)',\n",
       " 'Jurassic Park (1993)',\n",
       " 'Alien (1979)',\n",
       " 'GoodFellas (1990)',\n",
       " 'Wonder Woman (2017)',\n",
       " 'Shutter Island (2010)',\n",
       " 'The Dark Knight Rises (2012)',\n",
       " 'Captain America: The Winter Soldier (2014)',\n",
       " 'The Lobster (2015)',\n",
       " 'Annihilation (2018)',\n",
       " 'The Hateful Eight (2015)',\n",
       " 'WALL·E (2008)',\n",
       " 'Zodiac (2007)',\n",
       " 'Memento (2000)',\n",
       " 'Up (2009)',\n",
       " 'American Psycho (2000)',\n",
       " 'Incredibles 2 (2018)',\n",
       " 'Toy Story (1995)',\n",
       " 'Iron Man (2008)',\n",
       " 'A Clockwork Orange (1971)',\n",
       " 'The Incredibles (2004)',\n",
       " 'Donnie Darko (2001)',\n",
       " 'A Star Is Born (2018)',\n",
       " 'John Wick (2014)',\n",
       " 'The Big Lebowski (1998)',\n",
       " 'The Lord of the Rings: The Return of the King (2003)',\n",
       " 'Ratatouille (2007)',\n",
       " 'The Florida Project (2017)',\n",
       " 'The Witch (2015)',\n",
       " 'Avengers: Age of Ultron (2015)',\n",
       " 'Roma (2018)',\n",
       " 'Moonrise Kingdom (2012)',\n",
       " 'Lost in Translation (2003)',\n",
       " 'Psycho (1960)',\n",
       " 'The Breakfast Club (1985)',\n",
       " 'Return of the Jedi (1983)',\n",
       " 'Isle of Dogs (2018)',\n",
       " 'Deadpool 2 (2018)',\n",
       " 'The Lord of the Rings: The Two Towers (2002)',\n",
       " 'Fargo (1996)',\n",
       " 'I, Tonya (2017)',\n",
       " 'Titanic (1997)',\n",
       " 'Batman Begins (2005)',\n",
       " 'Ant-Man (2015)',\n",
       " 'The Lion King (1994)',\n",
       " 'There Will Be Blood (2007)',\n",
       " 'Finding Nemo (2003)',\n",
       " 'American Beauty (1999)',\n",
       " 'Split (2016)',\n",
       " 'Harry Potter and the Prisoner of Azkaban (2004)']"
      ]
     },
     "execution_count": 8,
     "metadata": {},
     "output_type": "execute_result"
    }
   ],
   "source": [
    "titles, hrefs, ranks = top_pages(page_num=2)\n",
    "titles"
   ]
  },
  {
   "cell_type": "code",
   "execution_count": 1,
   "metadata": {},
   "outputs": [
    {
     "data": {
      "text/plain": [
       "('Parasite (2019)', 'Joker (2019)', 'Other stuff (year)')"
      ]
     },
     "execution_count": 1,
     "metadata": {},
     "output_type": "execute_result"
    }
   ],
   "source": [
    "a = ['Parasite (2019)', 'Joker (2019)', 'Other stuff (year)']\n",
    "tuple(a)"
   ]
  },
  {
   "cell_type": "code",
   "execution_count": 2,
   "metadata": {},
   "outputs": [
    {
     "data": {
      "text/plain": [
       "'Parasite (2019)'"
      ]
     },
     "execution_count": 2,
     "metadata": {},
     "output_type": "execute_result"
    }
   ],
   "source": [
    "('Parasite (2019)')"
   ]
  },
  {
   "cell_type": "code",
   "execution_count": 3,
   "metadata": {},
   "outputs": [
    {
     "data": {
      "text/plain": [
       "('P', 'a', 'r', 'a', 's', 'i', 't', 'e', ' ', '(', '2', '0', '1', '9', ')')"
      ]
     },
     "execution_count": 3,
     "metadata": {},
     "output_type": "execute_result"
    }
   ],
   "source": [
    "tuple('Parasite (2019)')"
   ]
  },
  {
   "cell_type": "code",
   "execution_count": 4,
   "metadata": {},
   "outputs": [
    {
     "ename": "NameError",
     "evalue": "name 'Parasite' is not defined",
     "output_type": "error",
     "traceback": [
      "\u001b[1;31m---------------------------------------------------------------------------\u001b[0m",
      "\u001b[1;31mNameError\u001b[0m                                 Traceback (most recent call last)",
      "\u001b[1;32m<ipython-input-4-aa3915e931ca>\u001b[0m in \u001b[0;36m<module>\u001b[1;34m\u001b[0m\n\u001b[1;32m----> 1\u001b[1;33m \u001b[0mlist\u001b[0m\u001b[1;33m(\u001b[0m\u001b[0mmap\u001b[0m\u001b[1;33m(\u001b[0m\u001b[0meval\u001b[0m\u001b[1;33m,\u001b[0m \u001b[0ma\u001b[0m\u001b[1;33m)\u001b[0m\u001b[1;33m)\u001b[0m\u001b[1;33m\u001b[0m\u001b[1;33m\u001b[0m\u001b[0m\n\u001b[0m",
      "\u001b[1;32m<string>\u001b[0m in \u001b[0;36m<module>\u001b[1;34m\u001b[0m\n",
      "\u001b[1;31mNameError\u001b[0m: name 'Parasite' is not defined"
     ]
    }
   ],
   "source": []
  },
  {
   "cell_type": "code",
   "execution_count": 16,
   "metadata": {},
   "outputs": [
    {
     "data": {
      "text/plain": [
       "[<a class=\"frame\" href=\"/film/room-2015/\" title=\"Room (2015)\"> <span class=\"frame-title\">Room</span> </a>,\n",
       " <a class=\"frame\" href=\"/film/gravity-2013/\" title=\"Gravity (2013)\"> <span class=\"frame-title\">Gravity</span> </a>,\n",
       " <a class=\"frame\" href=\"/film/toy-story-4/\" title=\"Toy Story 4 (2019)\"> <span class=\"frame-title\">Toy Story 4</span> </a>,\n",
       " <a class=\"frame\" href=\"/film/the-prestige/\" title=\"The Prestige (2006)\"> <span class=\"frame-title\">The Prestige</span> </a>,\n",
       " <a class=\"frame\" href=\"/film/snowpiercer/\" title=\"Snowpiercer (2013)\"> <span class=\"frame-title\">Snowpiercer</span> </a>,\n",
       " <a class=\"frame\" href=\"/film/zootopia/\" title=\"Zootopia (2016)\"> <span class=\"frame-title\">Zootopia</span> </a>,\n",
       " <a class=\"frame\" href=\"/film/good-will-hunting/\" title=\"Good Will Hunting (1997)\"> <span class=\"frame-title\">Good Will Hunting</span> </a>,\n",
       " <a class=\"frame\" href=\"/film/the-perks-of-being-a-wallflower/\" title=\"The Perks of Being a Wallflower (2012)\"> <span class=\"frame-title\">The Perks of Being a Wallflower</span> </a>,\n",
       " <a class=\"frame\" href=\"/film/harry-potter-and-the-philosophers-stone/\" title=\"Harry Potter and the Philosopher's Stone (2001)\"> <span class=\"frame-title\">Harry Potter and the Philosopher's Stone</span> </a>,\n",
       " <a class=\"frame\" href=\"/film/pans-labyrinth/\" title=\"Pan's Labyrinth (2006)\"> <span class=\"frame-title\">Pan's Labyrinth</span> </a>,\n",
       " <a class=\"frame\" href=\"/film/kingsman-the-secret-service/\" title=\"Kingsman: The Secret Service (2014)\"> <span class=\"frame-title\">Kingsman: The Secret Service</span> </a>,\n",
       " <a class=\"frame\" href=\"/film/my-neighbor-totoro/\" title=\"My Neighbor Totoro (1988)\"> <span class=\"frame-title\">My Neighbor Totoro</span> </a>,\n",
       " <a class=\"frame\" href=\"/film/the-departed/\" title=\"The Departed (2006)\"> <span class=\"frame-title\">The Departed</span> </a>,\n",
       " <a class=\"frame\" href=\"/film/jaws/\" title=\"Jaws (1975)\"> <span class=\"frame-title\">Jaws</span> </a>,\n",
       " <a class=\"frame\" href=\"/film/mulholland-drive/\" title=\"Mulholland Drive (2001)\"> <span class=\"frame-title\">Mulholland Drive</span> </a>,\n",
       " <a class=\"frame\" href=\"/film/schindlers-list/\" title=\"Schindler's List (1993)\"> <span class=\"frame-title\">Schindler's List</span> </a>,\n",
       " <a class=\"frame\" href=\"/film/monsters-inc/\" title=\"Monsters, Inc. (2001)\"> <span class=\"frame-title\">Monsters, Inc.</span> </a>,\n",
       " <a class=\"frame\" href=\"/film/kill-bill-vol-2/\" title=\"Kill Bill: Vol. 2 (2004)\"> <span class=\"frame-title\">Kill Bill: Vol. 2</span> </a>,\n",
       " <a class=\"frame\" href=\"/film/mother-2017/\" title=\"mother! (2017)\"> <span class=\"frame-title\">mother!</span> </a>,\n",
       " <a class=\"frame\" href=\"/film/amelie/\" title=\"Amélie (2001)\"> <span class=\"frame-title\">Amélie</span> </a>,\n",
       " <a class=\"frame\" href=\"/film/toy-story-3/\" title=\"Toy Story 3 (2010)\"> <span class=\"frame-title\">Toy Story 3</span> </a>,\n",
       " <a class=\"frame\" href=\"/film/captain-america-the-first-avenger/\" title=\"Captain America: The First Avenger (2011)\"> <span class=\"frame-title\">Captain America: The First Avenger</span> </a>,\n",
       " <a class=\"frame\" href=\"/film/fantastic-mr-fox/\" title=\"Fantastic Mr. Fox (2009)\"> <span class=\"frame-title\">Fantastic Mr. Fox</span> </a>,\n",
       " <a class=\"frame\" href=\"/film/suicide-squad-2016/\" title=\"Suicide Squad (2016)\"> <span class=\"frame-title\">Suicide Squad</span> </a>,\n",
       " <a class=\"frame\" href=\"/film/apocalypse-now/\" title=\"Apocalypse Now (1979)\"> <span class=\"frame-title\">Apocalypse Now</span> </a>,\n",
       " <a class=\"frame\" href=\"/film/avatar/\" title=\"Avatar (2009)\"> <span class=\"frame-title\">Avatar</span> </a>,\n",
       " <a class=\"frame\" href=\"/film/eighth-grade/\" title=\"Eighth Grade (2018)\"> <span class=\"frame-title\">Eighth Grade</span> </a>,\n",
       " <a class=\"frame\" href=\"/film/prisoners/\" title=\"Prisoners (2013)\"> <span class=\"frame-title\">Prisoners</span> </a>,\n",
       " <a class=\"frame\" href=\"/film/good-time/\" title=\"Good Time (2017)\"> <span class=\"frame-title\">Good Time</span> </a>,\n",
       " <a class=\"frame\" href=\"/film/the-nice-guys/\" title=\"The Nice Guys (2016)\"> <span class=\"frame-title\">The Nice Guys</span> </a>,\n",
       " <a class=\"frame\" href=\"/film/phantom-thread/\" title=\"Phantom Thread (2017)\"> <span class=\"frame-title\">Phantom Thread</span> </a>,\n",
       " <a class=\"frame\" href=\"/film/boyhood/\" title=\"Boyhood (2014)\"> <span class=\"frame-title\">Boyhood</span> </a>,\n",
       " <a class=\"frame\" href=\"/film/raiders-of-the-lost-ark/\" title=\"Raiders of the Lost Ark (1981)\"> <span class=\"frame-title\">Raiders of the Lost Ark</span> </a>,\n",
       " <a class=\"frame\" href=\"/film/requiem-for-a-dream/\" title=\"Requiem for a Dream (2000)\"> <span class=\"frame-title\">Requiem for a Dream</span> </a>,\n",
       " <a class=\"frame\" href=\"/film/birds-of-prey-and-the-fantabulous-emancipation-of-one-harley-quinn/\" title=\"Birds of Prey (and the Fantabulous Emancipation of One Harley Quinn) (2020)\"> <span class=\"frame-title\">Birds of Prey (and the Fantabulous Emancipation of…</span> </a>,\n",
       " <a class=\"frame\" href=\"/film/ant-man-and-the-wasp/\" title=\"Ant-Man and the Wasp (2018)\"> <span class=\"frame-title\">Ant-Man and the Wasp</span> </a>,\n",
       " <a class=\"frame\" href=\"/film/iron-man-3/\" title=\"Iron Man 3 (2013)\"> <span class=\"frame-title\">Iron Man 3</span> </a>,\n",
       " <a class=\"frame\" href=\"/film/the-handmaiden/\" title=\"The Handmaiden (2016)\"> <span class=\"frame-title\">The Handmaiden</span> </a>,\n",
       " <a class=\"frame\" href=\"/film/shaun-of-the-dead/\" title=\"Shaun of the Dead (2004)\"> <span class=\"frame-title\">Shaun of the Dead</span> </a>,\n",
       " <a class=\"frame\" href=\"/film/ready-player-one/\" title=\"Ready Player One (2018)\"> <span class=\"frame-title\">Ready Player One</span> </a>,\n",
       " <a class=\"frame\" href=\"/film/oldboy/\" title=\"Oldboy (2003)\"> <span class=\"frame-title\">Oldboy</span> </a>,\n",
       " <a class=\"frame\" href=\"/film/moana-2016/\" title=\"Moana (2016)\"> <span class=\"frame-title\">Moana</span> </a>,\n",
       " <a class=\"frame\" href=\"/film/harry-potter-and-the-deathly-hallows-part-2/\" title=\"Harry Potter and the Deathly Hallows: Part 2 (2011)\"> <span class=\"frame-title\">Harry Potter and the Deathly Hallows: Part 2</span> </a>,\n",
       " <a class=\"frame\" href=\"/film/star-wars-episode-iii-revenge-of-the-sith/\" title=\"Star Wars: Episode III - Revenge of the Sith (2005)\"> <span class=\"frame-title\">Star Wars: Episode III - Revenge of the…</span> </a>,\n",
       " <a class=\"frame\" href=\"/film/the-killing-of-a-sacred-deer/\" title=\"The Killing of a Sacred Deer (2017)\"> <span class=\"frame-title\">The Killing of a Sacred Deer</span> </a>,\n",
       " <a class=\"frame\" href=\"/film/saving-private-ryan/\" title=\"Saving Private Ryan (1998)\"> <span class=\"frame-title\">Saving Private Ryan</span> </a>,\n",
       " <a class=\"frame\" href=\"/film/the-godfather-part-ii/\" title=\"The Godfather: Part II (1974)\"> <span class=\"frame-title\">The Godfather: Part II</span> </a>,\n",
       " <a class=\"frame\" href=\"/film/ferris-buellers-day-off/\" title=\"Ferris Bueller's Day Off (1986)\"> <span class=\"frame-title\">Ferris Bueller's Day Off</span> </a>,\n",
       " <a class=\"frame\" href=\"/film/star-wars-episode-i-the-phantom-menace/\" title=\"Star Wars: Episode I - The Phantom Menace (1999)\"> <span class=\"frame-title\">Star Wars: Episode I - The Phantom Menace</span> </a>,\n",
       " <a class=\"frame\" href=\"/film/catch-me-if-you-can-2002/\" title=\"Catch Me If You Can (2002)\"> <span class=\"frame-title\">Catch Me If You Can</span> </a>,\n",
       " <a class=\"frame\" href=\"/film/leon-the-professional/\" title=\"Léon: The Professional (1994)\"> <span class=\"frame-title\">Léon: The Professional</span> </a>,\n",
       " <a class=\"frame\" href=\"/film/little-miss-sunshine/\" title=\"Little Miss Sunshine (2006)\"> <span class=\"frame-title\">Little Miss Sunshine</span> </a>,\n",
       " <a class=\"frame\" href=\"/film/the-farewell-2019/\" title=\"The Farewell (2019)\"> <span class=\"frame-title\">The Farewell</span> </a>,\n",
       " <a class=\"frame\" href=\"/film/harry-potter-and-the-chamber-of-secrets/\" title=\"Harry Potter and the Chamber of Secrets (2002)\"> <span class=\"frame-title\">Harry Potter and the Chamber of Secrets</span> </a>,\n",
       " <a class=\"frame\" href=\"/film/solo-a-star-wars-story/\" title=\"Solo: A Star Wars Story (2018)\"> <span class=\"frame-title\">Solo: A Star Wars Story</span> </a>,\n",
       " <a class=\"frame\" href=\"/film/12-years-a-slave/\" title=\"12 Years a Slave (2013)\"> <span class=\"frame-title\">12 Years a Slave</span> </a>,\n",
       " <a class=\"frame\" href=\"/film/thor/\" title=\"Thor (2011)\"> <span class=\"frame-title\">Thor</span> </a>,\n",
       " <a class=\"frame\" href=\"/film/vertigo/\" title=\"Vertigo (1958)\"> <span class=\"frame-title\">Vertigo</span> </a>,\n",
       " <a class=\"frame\" href=\"/film/trainspotting/\" title=\"Trainspotting (1996)\"> <span class=\"frame-title\">Trainspotting</span> </a>,\n",
       " <a class=\"frame\" href=\"/film/manchester-by-the-sea/\" title=\"Manchester by the Sea (2016)\"> <span class=\"frame-title\">Manchester by the Sea</span> </a>,\n",
       " <a class=\"frame\" href=\"/film/what-we-do-in-the-shadows/\" title=\"What We Do in the Shadows (2014)\"> <span class=\"frame-title\">What We Do in the Shadows</span> </a>,\n",
       " <a class=\"frame\" href=\"/film/ad-astra-2019/\" title=\"Ad Astra (2019)\"> <span class=\"frame-title\">Ad Astra</span> </a>,\n",
       " <a class=\"frame\" href=\"/film/children-of-men/\" title=\"Children of Men (2006)\"> <span class=\"frame-title\">Children of Men</span> </a>,\n",
       " <a class=\"frame\" href=\"/film/harry-potter-and-the-goblet-of-fire/\" title=\"Harry Potter and the Goblet of Fire (2005)\"> <span class=\"frame-title\">Harry Potter and the Goblet of Fire</span> </a>,\n",
       " <a class=\"frame\" href=\"/film/it-chapter-two/\" title=\"It Chapter Two (2019)\"> <span class=\"frame-title\">It Chapter Two</span> </a>,\n",
       " <a class=\"frame\" href=\"/film/the-imitation-game/\" title=\"The Imitation Game (2014)\"> <span class=\"frame-title\">The Imitation Game</span> </a>,\n",
       " <a class=\"frame\" href=\"/film/toy-story-2/\" title=\"Toy Story 2 (1999)\"> <span class=\"frame-title\">Toy Story 2</span> </a>,\n",
       " <a class=\"frame\" href=\"/film/the-hunger-games/\" title=\"The Hunger Games (2012)\"> <span class=\"frame-title\">The Hunger Games</span> </a>,\n",
       " <a class=\"frame\" href=\"/film/the-thing/\" title=\"The Thing (1982)\"> <span class=\"frame-title\">The Thing</span> </a>,\n",
       " <a class=\"frame\" href=\"/film/500-days-of-summer/\" title=\"(500) Days of Summer (2009)\"> <span class=\"frame-title\">(500) Days of Summer</span> </a>,\n",
       " <a class=\"frame\" href=\"/film/12-angry-men/\" title=\"12 Angry Men (1957)\"> <span class=\"frame-title\">12 Angry Men</span> </a>,\n",
       " <a class=\"frame\" href=\"/film/dead-poets-society/\" title=\"Dead Poets Society (1989)\"> <span class=\"frame-title\">Dead Poets Society</span> </a>]"
      ]
     },
     "execution_count": 16,
     "metadata": {},
     "output_type": "execute_result"
    }
   ],
   "source": [
    "page_num=3\n",
    "time_period=''\n",
    "url = 'https://letterboxd.com/films/ajax/popular/'+time_period+'/size/small/'\n",
    "if page_num != 1:\n",
    "    url = url+f'page/{page_num}/'\n",
    "page = requests.get(url)\n",
    "soup = BeautifulSoup(page.content,'html.parser')\n",
    "films_divs = soup.find_all(title=True)\n",
    "# for i in range(len(films_divs)):\n",
    "#     titles.append(films_divs[i]['title'])\n",
    "#     hrefs.append(films_divs[i]['href'])\n",
    "#     rank.append(i+1+(page_num-1)*72)\n",
    "films_divs"
   ]
  },
  {
   "cell_type": "code",
   "execution_count": 42,
   "metadata": {},
   "outputs": [
    {
     "name": "stdout",
     "output_type": "stream",
     "text": [
      "comp: 4.55999997939216e-05 s\n",
      "loop: 3.769999966607429e-05 s\n",
      "loop-comp: -7.900000127847306e-06\n",
      "comp: 3.839999953925144e-05 s\n",
      "loop: 3.699999979289714e-05 s\n",
      "loop-comp: -1.3999997463542968e-06\n",
      "comp: 3.4300000152143184e-05 s\n",
      "loop: 3.51999997292296e-05 s\n",
      "loop-comp: 8.999995770864189e-07\n",
      "comp: 4.6099999963189475e-05 s\n",
      "loop: 3.749999996216502e-05 s\n",
      "loop-comp: -8.600000001024455e-06\n",
      "comp: 3.910000032192329e-05 s\n",
      "loop: 3.590000051190145e-05 s\n",
      "loop-comp: -3.1999998100218363e-06\n",
      "comp: 8.539999998902204e-05 s\n",
      "loop: 4.2100000428035855e-05 s\n",
      "loop-comp: -4.329999956098618e-05\n",
      "comp: 3.66000003850786e-05 s\n",
      "loop: 3.5600000046542846e-05 s\n",
      "loop-comp: -1.0000003385357559e-06\n",
      "comp: 3.389999983482994e-05 s\n",
      "loop: 3.370000013092067e-05 s\n",
      "loop-comp: -1.9999970390927047e-07\n",
      "comp: 3.730000025825575e-05 s\n",
      "loop: 3.569999989849748e-05 s\n",
      "loop-comp: -1.600000359758269e-06\n",
      "comp: 5.8799999351322185e-05 s\n",
      "loop: 6.880000000819564e-05 s\n",
      "loop-comp: 1.0000000656873453e-05\n"
     ]
    }
   ],
   "source": [
    "page_num=10\n",
    "for top_page in range(1,page_num+1):\n",
    "    url = 'https://letterboxd.com/films/ajax/popular/'+time_period+'/size/small/'\n",
    "    if page_num != 1:\n",
    "        url = url+f'page/{page_num}/'\n",
    "    page = requests.get(url)\n",
    "    soup = BeautifulSoup(page.content,'html.parser')\n",
    "    films_divs = soup.find_all(title=True)\n",
    "    comp_start = timeit.default_timer()\n",
    "    a = []\n",
    "    a = [films_divs[i]['title'] for i in range(len(films_divs))]\n",
    "    c = [i+1+(page_num-1)*72 for i in range(len(films_divs))]\n",
    "    comp_end = timeit.default_timer()\n",
    "    comp_time = comp_end-comp_start\n",
    "    loop_start = timeit.default_timer()\n",
    "    b = []\n",
    "    d = []\n",
    "    for i in range(len(films_divs)):\n",
    "        b.append(films_divs[i]['title'])\n",
    "        d.append(i+1+(page_num-1)*72)\n",
    "    loop_end = timeit.default_timer()\n",
    "    loop_time = loop_end-loop_start\n",
    "    print(f\"comp: {comp_time} s\\nloop: {loop_time} s\\nloop-comp: {loop_time-comp_time}\")"
   ]
  },
  {
   "cell_type": "code",
   "execution_count": null,
   "metadata": {},
   "outputs": [],
   "source": []
  }
 ],
 "metadata": {
  "kernelspec": {
   "display_name": "Python 3",
   "language": "python",
   "name": "python3"
  },
  "language_info": {
   "codemirror_mode": {
    "name": "ipython",
    "version": 3
   },
   "file_extension": ".py",
   "mimetype": "text/x-python",
   "name": "python",
   "nbconvert_exporter": "python",
   "pygments_lexer": "ipython3",
   "version": "3.8.5"
  }
 },
 "nbformat": 4,
 "nbformat_minor": 4
}
